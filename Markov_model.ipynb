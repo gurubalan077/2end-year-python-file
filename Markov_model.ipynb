{
 "cells": [
  {
   "cell_type": "code",
   "execution_count": 1,
   "id": "b13f192f",
   "metadata": {},
   "outputs": [],
   "source": [
    "from protopunica import *\n",
    "import numpy as np"
   ]
  },
  {
   "cell_type": "code",
   "execution_count": 2,
   "id": "1f36db71",
   "metadata": {},
   "outputs": [],
   "source": [
    "start = DiscreteDistribution({\n",
    "    \"Pizza\":1,\n",
    "    \"Veg\":0\n",
    "})"
   ]
  },
  {
   "cell_type": "code",
   "execution_count": 3,
   "id": "ec784564",
   "metadata": {},
   "outputs": [],
   "source": [
    "Transitions = ConditionalProbabilityTable([\n",
    "    [\"Pizza\",\"Pizza\",0.75],\n",
    "    [\"Pizza\",\"Veg\",0.25],\n",
    "    [\"Veg\",\"Veg\",0.6],\n",
    "    [\"Veg\",\"Pizza\",0.4],\n",
    "],[start])"
   ]
  },
  {
   "cell_type": "code",
   "execution_count": 4,
   "id": "6933db48",
   "metadata": {},
   "outputs": [],
   "source": [
    "Model=MarkovChain([start,Transitions])"
   ]
  },
  {
   "cell_type": "code",
   "execution_count": 5,
   "id": "0989443e",
   "metadata": {},
   "outputs": [],
   "source": [
    "Random_samples=Model.sample(2)"
   ]
  },
  {
   "cell_type": "code",
   "execution_count": 6,
   "id": "79b88e1c",
   "metadata": {},
   "outputs": [
    {
     "name": "stdout",
     "output_type": "stream",
     "text": [
      "['Pizza', 'Pizza']\n"
     ]
    }
   ],
   "source": [
    "print(Random_samples)"
   ]
  },
  {
   "cell_type": "code",
   "execution_count": 7,
   "id": "8ee0445e",
   "metadata": {},
   "outputs": [],
   "source": [
    "Log_probalility=Model.log_probability(Random_samples)"
   ]
  },
  {
   "cell_type": "code",
   "execution_count": 8,
   "id": "1ef3ce36",
   "metadata": {},
   "outputs": [],
   "source": [
    "Probability_of_Occurance=np.exp(Log_probalility)"
   ]
  },
  {
   "cell_type": "code",
   "execution_count": 9,
   "id": "1b817dbf",
   "metadata": {},
   "outputs": [
    {
     "data": {
      "text/plain": [
       "0.75"
      ]
     },
     "execution_count": 9,
     "metadata": {},
     "output_type": "execute_result"
    }
   ],
   "source": [
    "Probability_of_Occurance"
   ]
  },
  {
   "cell_type": "code",
   "execution_count": 10,
   "id": "1cd12dfa",
   "metadata": {},
   "outputs": [],
   "source": [
    "Log_probalility_Food_Sequence=Model.log_probability([\"Pizza\",\"Veg\",\"Veg\",\"Pizza\"])"
   ]
  },
  {
   "cell_type": "code",
   "execution_count": 11,
   "id": "177118ea",
   "metadata": {},
   "outputs": [],
   "source": [
    "probalility_of_Food_ = np.exp(Log_probalility_Food_Sequence)"
   ]
  },
  {
   "cell_type": "code",
   "execution_count": 12,
   "id": "b681b93f",
   "metadata": {},
   "outputs": [
    {
     "name": "stdout",
     "output_type": "stream",
     "text": [
      "0.06\n"
     ]
    }
   ],
   "source": [
    "print(probalility_of_Food_)"
   ]
  },
  {
   "cell_type": "code",
   "execution_count": 13,
   "id": "284ffe84",
   "metadata": {},
   "outputs": [],
   "source": [
    "Log_probalility_Food_Sequence01=Model.log_probability([\"Pizza\",\"Pizza\",\"Veg\",\"Pizza\"])"
   ]
  },
  {
   "cell_type": "code",
   "execution_count": 15,
   "id": "5e31966a",
   "metadata": {},
   "outputs": [],
   "source": [
    "probalility_of_Food_01 = np.exp(Log_probalility_Food_Sequence01)"
   ]
  },
  {
   "cell_type": "code",
   "execution_count": 16,
   "id": "4cca4c5c",
   "metadata": {},
   "outputs": [
    {
     "name": "stdout",
     "output_type": "stream",
     "text": [
      "0.075\n"
     ]
    }
   ],
   "source": [
    "print(probalility_of_Food_01)"
   ]
  },
  {
   "cell_type": "code",
   "execution_count": 17,
   "id": "dbb10df4",
   "metadata": {},
   "outputs": [],
   "source": [
    "Log_probalility_Food_Sequence02=Model.log_probability([\"Pizza\",\"Veg\",\"Veg\",\"Veg\"])"
   ]
  },
  {
   "cell_type": "code",
   "execution_count": 18,
   "id": "512d5821",
   "metadata": {},
   "outputs": [],
   "source": [
    "probalility_of_Food_02 = np.exp(Log_probalility_Food_Sequence02)"
   ]
  },
  {
   "cell_type": "code",
   "execution_count": 19,
   "id": "49188bc6",
   "metadata": {},
   "outputs": [
    {
     "name": "stdout",
     "output_type": "stream",
     "text": [
      "0.09000000000000001\n"
     ]
    }
   ],
   "source": [
    "print(probalility_of_Food_02)"
   ]
  },
  {
   "cell_type": "code",
   "execution_count": null,
   "id": "4cff863a",
   "metadata": {},
   "outputs": [],
   "source": []
  }
 ],
 "metadata": {
  "kernelspec": {
   "display_name": "Python 3 (ipykernel)",
   "language": "python",
   "name": "python3"
  },
  "language_info": {
   "codemirror_mode": {
    "name": "ipython",
    "version": 3
   },
   "file_extension": ".py",
   "mimetype": "text/x-python",
   "name": "python",
   "nbconvert_exporter": "python",
   "pygments_lexer": "ipython3",
   "version": "3.9.13"
  }
 },
 "nbformat": 4,
 "nbformat_minor": 5
}
